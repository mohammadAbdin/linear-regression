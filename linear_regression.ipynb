{
  "cells": [
    {
      "cell_type": "markdown",
      "metadata": {
        "id": "view-in-github",
        "colab_type": "text"
      },
      "source": [
        "<a href=\"https://colab.research.google.com/github/mohammadAbdin/linear-regression/blob/main/linear_regression.ipynb\" target=\"_parent\"><img src=\"https://colab.research.google.com/assets/colab-badge.svg\" alt=\"Open In Colab\"/></a>"
      ]
    },
    {
      "cell_type": "code",
      "execution_count": null,
      "metadata": {
        "id": "VcZA7MxvdJ49"
      },
      "outputs": [],
      "source": [
        "import pandas as pd\n",
        "import matplotlib.pyplot as plt"
      ]
    },
    {
      "cell_type": "code",
      "execution_count": null,
      "metadata": {
        "id": "qK8gYMyOdJ5I"
      },
      "outputs": [],
      "source": [
        "df = pd.read_csv(\"linear-regression-dataset.csv\",sep = \";\")"
      ]
    },
    {
      "cell_type": "code",
      "execution_count": null,
      "metadata": {
        "scrolled": false,
        "colab": {
          "base_uri": "https://localhost:8080/",
          "height": 279
        },
        "id": "figlOwHsdJ5K",
        "outputId": "bada4645-94ef-40d8-fe9a-25cc91ef1628"
      },
      "outputs": [
        {
          "output_type": "display_data",
          "data": {
            "text/plain": [
              "<Figure size 432x288 with 1 Axes>"
            ],
            "image/png": "[encoded data removed]"
          },
          "metadata": {
            "needs_background": "light"
          }
        }
      ],
      "source": [
        "plt.scatter(df.experience,df.salary)\n",
        "plt.xlabel(\"experience\")\n",
        "plt.ylabel(\"salary\")\n",
        "plt.show()"
      ]
    },
    {
      "cell_type": "code",
      "execution_count": null,
      "metadata": {
        "id": "7pqV9tjUdJ5N"
      },
      "outputs": [],
      "source": [
        "#%% linear regression\n",
        "# sklearn library\n",
        "from sklearn.linear_model import LinearRegression\n",
        "\n",
        "# linear regression model\n",
        "linear_reg = LinearRegression()\n",
        "\n",
        "x = df.experience.values.reshape(14,1)\n",
        "y = df.salary.values.reshape(14,1)\n",
        "\n",
        "linear_reg.fit(x,y)\n",
        "plt.show()\n"
      ]
    },
    {
      "cell_type": "code",
      "execution_count": null,
      "metadata": {
        "colab": {
          "base_uri": "https://localhost:8080/"
        },
        "id": "NOUA-mkydJ5Q",
        "outputId": "e6ed61c8-1415-4e1e-9e0f-2674479d021b"
      },
      "outputs": [
        {
          "output_type": "stream",
          "name": "stdout",
          "text": [
            "b0:  [[1663.89519747]]\n"
          ]
        }
      ],
      "source": [
        "#%% prediction\n",
        "import numpy as np\n",
        "\n",
        "b0 = linear_reg.predict([[0]])\n",
        "print(\"b0: \",b0)\n",
        "\n",
        "\n"
      ]
    },
    {
      "cell_type": "code",
      "execution_count": null,
      "metadata": {
        "colab": {
          "base_uri": "https://localhost:8080/"
        },
        "id": "LdTu9u0SdJ5S",
        "outputId": "5264ccf0-9f22-4d5b-b02e-0a9763745ead"
      },
      "outputs": [
        {
          "output_type": "stream",
          "name": "stdout",
          "text": [
            "b0_:  [1663.89519747]\n"
          ]
        }
      ],
      "source": [
        "b0_ = linear_reg.intercept_\n",
        "print(\"b0_: \",b0_)   # intercept the y-axis\n",
        "\n"
      ]
    },
    {
      "cell_type": "code",
      "execution_count": null,
      "metadata": {
        "colab": {
          "base_uri": "https://localhost:8080/"
        },
        "id": "BQECA9ypdJ5U",
        "outputId": "e3d5dcbd-fa11-4bfc-d594-5e0fcdfad0c7"
      },
      "outputs": [
        {
          "output_type": "stream",
          "name": "stdout",
          "text": [
            "b1:  [[1138.34819698]]\n"
          ]
        }
      ],
      "source": [
        "b1 = linear_reg.coef_\n",
        "print(\"b1: \",b1)   # slope\n",
        "\n",
        "# salary = 1663 + 1138*experience \n",
        "\n"
      ]
    },
    {
      "cell_type": "code",
      "execution_count": null,
      "metadata": {
        "colab": {
          "base_uri": "https://localhost:8080/"
        },
        "id": "WPpjvpsrdJ5X",
        "outputId": "0aced1ec-77c5-416f-8c68-a50345f98de2"
      },
      "outputs": [
        {
          "output_type": "stream",
          "name": "stdout",
          "text": [
            "14181\n"
          ]
        }
      ],
      "source": [
        "new_salary = 1663 + 1138*11\n",
        "print(new_salary)\n",
        "\n"
      ]
    },
    {
      "cell_type": "code",
      "execution_count": null,
      "metadata": {
        "colab": {
          "base_uri": "https://localhost:8080/"
        },
        "id": "ImPGPXFXdJ5Z",
        "outputId": "752049ba-98db-43ba-8bd5-4f6c998b855e"
      },
      "outputs": [
        {
          "output_type": "stream",
          "name": "stdout",
          "text": [
            "b11:  [[14185.72536421]]\n"
          ]
        }
      ],
      "source": [
        "b11 = linear_reg.predict([[11]])\n",
        "print(\"b11: \",b11)\n",
        "\n",
        "\n"
      ]
    },
    {
      "cell_type": "code",
      "execution_count": null,
      "metadata": {
        "colab": {
          "base_uri": "https://localhost:8080/",
          "height": 265
        },
        "id": "GXuY5sw2dJ5c",
        "outputId": "b886f0ec-47b6-4a57-fead-b917fb4d77b2"
      },
      "outputs": [
        {
          "output_type": "display_data",
          "data": {
            "text/plain": [
              "<Figure size 432x288 with 1 Axes>"
            ],
            "image/png": "[encoded data removed]"
          },
          "metadata": {
            "needs_background": "light"
          }
        }
      ],
      "source": [
        "# visualize line\n",
        "array = np.array([0,1,2,3,4,5,6,7,8,9,10,11,12,13,14,15]).reshape(-1,1)  # experience\n",
        "\n",
        "\n",
        "plt.scatter(x,y)\n",
        "plt.show()\n",
        "\n",
        "\n"
      ]
    },
    {
      "cell_type": "code",
      "execution_count": null,
      "metadata": {
        "colab": {
          "base_uri": "https://localhost:8080/",
          "height": 265
        },
        "id": "BW41DaFldJ5e",
        "outputId": "f21a5a33-0c3c-4132-830d-e3ffb2773f1d"
      },
      "outputs": [
        {
          "output_type": "display_data",
          "data": {
            "text/plain": [
              "<Figure size 432x288 with 1 Axes>"
            ],
            "image/png": "[encoded data removed]"
          },
          "metadata": {
            "needs_background": "light"
          }
        }
      ],
      "source": [
        "y_head = linear_reg.predict(array)  # salary\n",
        "\n",
        "plt.plot(array, y_head,color = \"red\")\n",
        "\n",
        "plt.scatter(x,y)\n",
        "plt.show()\n"
      ]
    },
    {
      "cell_type": "code",
      "execution_count": null,
      "metadata": {
        "colab": {
          "base_uri": "https://localhost:8080/"
        },
        "id": "CEXBKnaudJ5g",
        "outputId": "92e782aa-47b9-497b-c409-b140bba3c504"
      },
      "outputs": [
        {
          "output_type": "stream",
          "name": "stdout",
          "text": [
            "b11:  [[115498.71489503]]\n"
          ]
        }
      ],
      "source": [
        "b100 = linear_reg.predict([[100]])\n",
        "print(\"b11: \",b100)\n"
      ]
    }
  ],
  "metadata": {
    "kernelspec": {
      "display_name": "Python 3",
      "language": "python",
      "name": "python3"
    },
    "language_info": {
      "codemirror_mode": {
        "name": "ipython",
        "version": 3
      },
      "file_extension": ".py",
      "mimetype": "text/x-python",
      "name": "python",
      "nbconvert_exporter": "python",
      "pygments_lexer": "ipython3",
      "version": "3.7.1"
    },
    "colab": {
      "name": "linear-regression.ipynb",
      "provenance": [],
      "include_colab_link": true
    }
  },
  "nbformat": 4,
  "nbformat_minor": 0
}